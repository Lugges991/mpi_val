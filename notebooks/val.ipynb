{
 "cells": [
  {
   "cell_type": "markdown",
   "id": "2bf7fd24-049f-407d-9aec-2954c2843b41",
   "metadata": {},
   "source": [
    "# Validation of FS vs GT and Ours vs GT"
   ]
  },
  {
   "cell_type": "code",
   "execution_count": 1,
   "id": "33c33cf2-175a-495b-bbfb-f46cc4964644",
   "metadata": {},
   "outputs": [],
   "source": [
    "import numpy as np\n",
    "import nibabel as nib\n",
    "from pathlib import Path"
   ]
  },
  {
   "cell_type": "code",
   "execution_count": 2,
   "id": "9aa5538b-8469-4621-9d55-739d74ccacc3",
   "metadata": {},
   "outputs": [],
   "source": [
    "orig_file = \"/home/lugges/Documents/MPI_BK/validation/me0801/me0801.nii\"\n",
    "fs_file = \"/home/lugges/Documents/MPI_BK/validation/me0801/me0801_rca/me0801_wts15_reconall/mri/ribbon.nii\"\n",
    "ours_file = \"/home/lugges/Documents/MPI_BK/validation/me0801/me0801_ours/me0801_mask.nii\"\n",
    "gt_file = \"/home/lugges/Documents/MPI_BK/validation/me0801/me0801_seg/ribbon_Dez_19.nii\""
   ]
  },
  {
   "cell_type": "code",
   "execution_count": 3,
   "id": "105f4b88-3a80-4c13-bf97-b8c3e11e0dda",
   "metadata": {},
   "outputs": [],
   "source": [
    "# load the files\n",
    "fs_obj = nib.load(fs_file)\n",
    "ours_obj = nib.load(ours_file)\n",
    "gt_obj = nib.load(gt_file)\n",
    "orig_obj = nib.load(orig_file)"
   ]
  },
  {
   "cell_type": "code",
   "execution_count": 4,
   "id": "629cadbd-e41f-4eaa-8631-0d21d182f53f",
   "metadata": {},
   "outputs": [
    {
     "data": {
      "text/plain": [
       "(352, 352, 352)"
      ]
     },
     "execution_count": 4,
     "metadata": {},
     "output_type": "execute_result"
    }
   ],
   "source": [
    "fs_obj.shape"
   ]
  },
  {
   "cell_type": "code",
   "execution_count": 5,
   "id": "6f05d0de-cf6f-4c5a-bbbc-ed7a2a97d335",
   "metadata": {},
   "outputs": [
    {
     "data": {
      "text/plain": [
       "(384, 384, 384)"
      ]
     },
     "execution_count": 5,
     "metadata": {},
     "output_type": "execute_result"
    }
   ],
   "source": [
    "ours_obj.shape"
   ]
  },
  {
   "cell_type": "code",
   "execution_count": 6,
   "id": "fb63f74f-32c0-4167-928f-655c204702ac",
   "metadata": {},
   "outputs": [
    {
     "data": {
      "text/plain": [
       "(352, 352, 352)"
      ]
     },
     "execution_count": 6,
     "metadata": {},
     "output_type": "execute_result"
    }
   ],
   "source": [
    "gt_obj.shape"
   ]
  },
  {
   "cell_type": "code",
   "execution_count": 7,
   "id": "0b46d55f-aba4-448d-973b-99610ff0a14f",
   "metadata": {},
   "outputs": [
    {
     "data": {
      "text/plain": [
       "(352, 352, 256)"
      ]
     },
     "execution_count": 7,
     "metadata": {},
     "output_type": "execute_result"
    }
   ],
   "source": [
    "orig_obj.shape"
   ]
  },
  {
   "cell_type": "code",
   "execution_count": 8,
   "id": "20135233-a3e3-449c-81b8-285aca9bba72",
   "metadata": {},
   "outputs": [],
   "source": [
    "fs_data = fs_obj.get_fdata()\n",
    "ours_data = ours_obj.get_fdata()\n",
    "gt_data = gt_obj.get_fdata()"
   ]
  },
  {
   "cell_type": "code",
   "execution_count": 9,
   "id": "cffd65b7-a1d4-4a8b-b9dc-854a9d1a8890",
   "metadata": {},
   "outputs": [
    {
     "data": {
      "text/plain": [
       "array([0., 1., 2., 3., 4.])"
      ]
     },
     "execution_count": 9,
     "metadata": {},
     "output_type": "execute_result"
    }
   ],
   "source": [
    "np.unique(ours_data)"
   ]
  },
  {
   "cell_type": "code",
   "execution_count": 10,
   "id": "0a36c4c6-55ee-476b-82e0-1ca6eea10c99",
   "metadata": {},
   "outputs": [
    {
     "data": {
      "text/plain": [
       "array([ 0.,  2.,  3., 41., 42.])"
      ]
     },
     "execution_count": 10,
     "metadata": {},
     "output_type": "execute_result"
    }
   ],
   "source": [
    "np.unique(fs_data)"
   ]
  },
  {
   "cell_type": "code",
   "execution_count": 11,
   "id": "a98ac6f2-816e-45dc-9f12-8496fb9a0616",
   "metadata": {},
   "outputs": [
    {
     "data": {
      "text/plain": [
       "array([ 0.,  2.,  3., 41., 42.])"
      ]
     },
     "execution_count": 11,
     "metadata": {},
     "output_type": "execute_result"
    }
   ],
   "source": [
    "np.unique(gt_data)"
   ]
  },
  {
   "cell_type": "markdown",
   "id": "bffe6ea3-1c86-42d1-8f1f-7753b458a649",
   "metadata": {},
   "source": [
    "**Labels:**\n",
    "Ribbon Prediction:\n",
    "\n",
    "Freesurfer:\n",
    "0: BG\n",
    "2: Left WM\n",
    "3: Left GM\n",
    "41: Right WM\n",
    "42: Right GM\n",
    "\n",
    "Ours:\n",
    "0: BG\n",
    "1: Left WM\n",
    "2: Left GM\n",
    "3: Right WM\n",
    "4: Right GM\n",
    "\n",
    "|          | FS | Ours |\n",
    "|----------|----|------|\n",
    "| BG       | 0  | 0    |\n",
    "| Left WM  | 2  | 1    |\n",
    "| Left GM  | 3  | 2    |\n",
    "| Right WM | 41 | 3    |\n",
    "| Right GM | 42 | 4    |"
   ]
  },
  {
   "cell_type": "code",
   "execution_count": 12,
   "id": "e11eb43b-8d35-4b7b-8987-ec5806d19e1b",
   "metadata": {},
   "outputs": [],
   "source": [
    "def ours_to_fs_labels(data):\n",
    "    data = np.where(data == 4, 42, data)\n",
    "    data = np.where(data == 3, 41, data)\n",
    "    data = np.where(data == 2, 3, data)\n",
    "    data = np.where(data == 1, 2, data)\n",
    "    return data"
   ]
  },
  {
   "cell_type": "code",
   "execution_count": 13,
   "id": "2bd46c70-f217-489f-9f8f-e50b60db6e9f",
   "metadata": {},
   "outputs": [],
   "source": [
    "ours_data = ours_to_fs_labels(ours_data)"
   ]
  },
  {
   "cell_type": "code",
   "execution_count": 14,
   "id": "d98d8f82-2e6d-402c-ae52-1131c2505888",
   "metadata": {},
   "outputs": [
    {
     "data": {
      "text/plain": [
       "(384, 384, 384)"
      ]
     },
     "execution_count": 14,
     "metadata": {},
     "output_type": "execute_result"
    }
   ],
   "source": [
    "ours_data.shape"
   ]
  },
  {
   "cell_type": "code",
   "execution_count": 15,
   "id": "d6c9b66d-cd51-496a-8b3f-516e0c253a86",
   "metadata": {},
   "outputs": [
    {
     "data": {
      "text/plain": [
       "array([[   0.60000002,   -0.        ,   -0.        , -116.69263458],\n",
       "       [  -0.        ,    0.60000002,   -0.        , -128.11448669],\n",
       "       [   0.        ,    0.        ,    0.60000002, -106.5426178 ],\n",
       "       [   0.        ,    0.        ,    0.        ,    1.        ]])"
      ]
     },
     "execution_count": 15,
     "metadata": {},
     "output_type": "execute_result"
    }
   ],
   "source": [
    "ours_obj.affine"
   ]
  },
  {
   "cell_type": "code",
   "execution_count": 16,
   "id": "e4ca0e1c-710d-4b87-87fd-7de1cd71f046",
   "metadata": {},
   "outputs": [],
   "source": [
    "from nilearn.image import resample_img"
   ]
  },
  {
   "cell_type": "code",
   "execution_count": 17,
   "id": "54e82180-44d9-4360-a975-9b8e1e453bf0",
   "metadata": {},
   "outputs": [
    {
     "name": "stderr",
     "output_type": "stream",
     "text": [
      "/home/lugges/.local/lib/python3.10/site-packages/nilearn/image/resampling.py:531: UserWarning: Casting data from int8 to float32\n",
      "  warnings.warn(\"Casting data from %s to %s\" % (data.dtype.name, aux))\n"
     ]
    }
   ],
   "source": [
    "ours_res = resample_img(ours_obj, target_affine=gt_obj.affine, target_shape=gt_obj.shape)"
   ]
  },
  {
   "cell_type": "code",
   "execution_count": 18,
   "id": "6f25dab0-a7c4-48ee-a5dc-1b08074b3979",
   "metadata": {},
   "outputs": [
    {
     "data": {
      "text/plain": [
       "(352, 352, 352)"
      ]
     },
     "execution_count": 18,
     "metadata": {},
     "output_type": "execute_result"
    }
   ],
   "source": [
    "ours_res.shape"
   ]
  },
  {
   "cell_type": "code",
   "execution_count": 19,
   "id": "d51e03d1-4398-40e4-b2d0-395f26473584",
   "metadata": {},
   "outputs": [],
   "source": [
    "ours_data = ours_to_fs_labels(ours_res.get_fdata())"
   ]
  },
  {
   "cell_type": "code",
   "execution_count": 20,
   "id": "a93adbf2-16db-4a7f-8e99-ac7aa69929a1",
   "metadata": {},
   "outputs": [
    {
     "data": {
      "text/plain": [
       "array([0.00000000e+00, 1.40129846e-45, 2.80259693e-45, ...,\n",
       "       3.99999976e+00, 4.10000000e+01, 4.20000000e+01])"
      ]
     },
     "execution_count": 20,
     "metadata": {},
     "output_type": "execute_result"
    }
   ],
   "source": [
    "np.unique(ours_data)"
   ]
  },
  {
   "cell_type": "code",
   "execution_count": 21,
   "id": "47a70d4d-3c4e-48c4-9f39-910fb6d7fee7",
   "metadata": {},
   "outputs": [
    {
     "data": {
      "text/plain": [
       "array([0.00000000e+00, 1.40129846e-45, 2.80259693e-45, ...,\n",
       "       3.99999928e+00, 3.99999976e+00, 4.00000000e+00])"
      ]
     },
     "execution_count": 21,
     "metadata": {},
     "output_type": "execute_result"
    }
   ],
   "source": [
    "np.unique(ours_res.get_fdata())"
   ]
  },
  {
   "cell_type": "code",
   "execution_count": 22,
   "id": "1cc16402-b3f4-4e3f-8ef4-8402020f917b",
   "metadata": {},
   "outputs": [],
   "source": [
    "# ToDo:\n",
    "# transform ours.shape (384, 384, 384) to ours.shape(352, 352, 352)\n"
   ]
  },
  {
   "cell_type": "markdown",
   "id": "b66d7749-4420-41c6-ba1a-a10616fb6411",
   "metadata": {},
   "source": [
    "# Metrics\n",
    "\n",
    "- IoU, voraussichtlich min(IoU, boundary IoU)  # Drop Background\n",
    "- Hausdorff Distance (voraussichtlich die 95. Quantile)\n",
    "- Variation of Information\n",
    "\n",
    "\n",
    "\n",
    "maybe create one channel for each label? -> transform to channel-wise binary labels?\n",
    "\n",
    "meanIoU in pyTorch: https://github.com/wolny/pytorch-3dunet/blob/master/pytorch3dunet/unet3d/metrics.py\n",
    "\n"
   ]
  },
  {
   "cell_type": "markdown",
   "id": "60b8db14-7d26-4710-b866-24dec05a72cd",
   "metadata": {
    "tags": []
   },
   "source": [
    "## Volumetric IoU\n",
    "\n",
    "$$JAC = \\frac{TP}{TP + FP + FN}$$"
   ]
  },
  {
   "cell_type": "code",
   "execution_count": 23,
   "id": "1183f561-66a9-4376-9147-145c5f5d16e1",
   "metadata": {},
   "outputs": [],
   "source": [
    "def volumetric_iou(gt, pred):\n",
    "    ious = []\n",
    "    for i in np.unique(gt):\n",
    "        intersec = np.logical_and(gt==i, pred==i)\n",
    "        union = np.logical_or(gt==i, pred==i)\n",
    "        ious.append(np.sum(intersec)/np.sum(union))\n",
    "    return sum(ious) / len(ious)"
   ]
  },
  {
   "cell_type": "code",
   "execution_count": 24,
   "id": "3576b5c4-b223-4f47-926c-908d553561bf",
   "metadata": {},
   "outputs": [],
   "source": [
    "def hausdorff_distance():\n",
    "    pass"
   ]
  },
  {
   "cell_type": "markdown",
   "id": "06c4b99c-fbd3-4e19-b3e5-006479b3b052",
   "metadata": {
    "tags": []
   },
   "source": [
    "## Variation of Information\n",
    "\n",
    "$S_g$ is the ground truth partition and $S_t$ is the segmentation. Then the variation of information $VOI(S_g, S_t)$ is defined as:\n",
    "$$VOI(S_g, S_t) = H(S_g) + H(S_t) - 2MI(S_g, S_t) $$\n",
    ", where the mutual information $MI(S_g, S_t)$ is defined as:\n",
    "$$MI(S_g, S_t) = H(S_g) + H(S_t) - H(S_g, S_t)$$"
   ]
  },
  {
   "cell_type": "code",
   "execution_count": 25,
   "id": "1fa9bff0-a001-4833-96b5-82b88a31d4ad",
   "metadata": {},
   "outputs": [],
   "source": [
    "from scipy.stats import entropy\n",
    "\n",
    "def mutual_information(gt, pred):\n",
    "    pass\n",
    "\n",
    "\n",
    "def variation_of_information(gt, pred):\n",
    "    pass"
   ]
  },
  {
   "cell_type": "code",
   "execution_count": null,
   "id": "62733556-9e57-4707-b747-7345192179e0",
   "metadata": {},
   "outputs": [],
   "source": []
  },
  {
   "cell_type": "code",
   "execution_count": 26,
   "id": "00f90b4b-3eb7-401a-9e9d-a06fb5e17d54",
   "metadata": {},
   "outputs": [],
   "source": [
    "def label_to_bool_arr(data, label):\n",
    "    return np.where(data==label, 1, data)"
   ]
  },
  {
   "cell_type": "code",
   "execution_count": 27,
   "id": "69ba9b32-3160-4bc4-8195-0d8c802156de",
   "metadata": {},
   "outputs": [],
   "source": [
    "test1 = label_to_bool_arr(gt_data, 2)"
   ]
  },
  {
   "cell_type": "code",
   "execution_count": 28,
   "id": "0c835f49-2129-4baf-abf9-23bf8255dfbf",
   "metadata": {},
   "outputs": [
    {
     "data": {
      "text/plain": [
       "array([ 0.,  1.,  3., 41., 42.])"
      ]
     },
     "execution_count": 28,
     "metadata": {},
     "output_type": "execute_result"
    }
   ],
   "source": [
    "np.unique(test1)"
   ]
  },
  {
   "cell_type": "code",
   "execution_count": 29,
   "id": "7c0eea15-7fdb-4fb6-baf3-a923c242e3cc",
   "metadata": {},
   "outputs": [],
   "source": [
    "hero = np.logical_and(gt_data==2, fs_data==2)"
   ]
  },
  {
   "cell_type": "code",
   "execution_count": 30,
   "id": "ebc7dafc-d710-43d2-8e94-875df73f2f35",
   "metadata": {},
   "outputs": [],
   "source": [
    "sucker = np.logical_or(gt_data==2, fs_data==2)"
   ]
  },
  {
   "cell_type": "code",
   "execution_count": 31,
   "id": "8c78a8e0-6c1e-4d26-ad73-00416e167f45",
   "metadata": {},
   "outputs": [
    {
     "data": {
      "text/plain": [
       "0.9970613609692579"
      ]
     },
     "execution_count": 31,
     "metadata": {},
     "output_type": "execute_result"
    }
   ],
   "source": [
    "np.sum(hero) / np.sum(sucker)"
   ]
  },
  {
   "cell_type": "code",
   "execution_count": 32,
   "id": "c88f44df-6729-4c23-bd48-aea00d483010",
   "metadata": {},
   "outputs": [],
   "source": [
    "iou = volumetric_iou(gt_data, fs_data)"
   ]
  },
  {
   "cell_type": "code",
   "execution_count": 33,
   "id": "74b5e6b2-2c14-4dac-8227-c3a9258a3dab",
   "metadata": {},
   "outputs": [
    {
     "data": {
      "text/plain": [
       "0.9756320835680906"
      ]
     },
     "execution_count": 33,
     "metadata": {},
     "output_type": "execute_result"
    }
   ],
   "source": [
    "iou"
   ]
  },
  {
   "cell_type": "code",
   "execution_count": 35,
   "id": "1db67f8a-2cc1-4987-8f10-89d841ef772d",
   "metadata": {},
   "outputs": [],
   "source": [
    "import SimpleITK as sitk"
   ]
  },
  {
   "cell_type": "code",
   "execution_count": 36,
   "id": "a64cd266-333d-49a6-9cf0-b9c7d8a665ec",
   "metadata": {},
   "outputs": [],
   "source": [
    "test = sitk.ReadImage(gt_file)"
   ]
  },
  {
   "cell_type": "code",
   "execution_count": 40,
   "id": "19a8583c-68f5-4bc6-ad82-0ae14c5f4d3c",
   "metadata": {},
   "outputs": [],
   "source": [
    "from enum import Enum\n",
    "\n",
    "class OverlapMeasures(Enum):\n",
    "    jaccard, dice, volume_similarity, false_negative, false_positive = range(5)"
   ]
  },
  {
   "cell_type": "code",
   "execution_count": 51,
   "id": "6bc50234-5426-4861-81fc-fde640c25bfe",
   "metadata": {},
   "outputs": [],
   "source": [
    "gt_sitk = sitk.ReadImage(gt_file, sitk.sitkUInt8)\n",
    "fs_sitk = sitk.ReadImage(fs_file, sitk.sitkUInt8)"
   ]
  },
  {
   "cell_type": "code",
   "execution_count": 52,
   "id": "7f7d7b02-b83f-4a92-8f02-e9c50217916e",
   "metadata": {},
   "outputs": [
    {
     "data": {
      "text/plain": [
       "<SimpleITK.SimpleITK.Image; proxy of <Swig Object of type 'std::vector< itk::simple::Image >::value_type *' at 0x7fb335d40870> >"
      ]
     },
     "execution_count": 52,
     "metadata": {},
     "output_type": "execute_result"
    }
   ],
   "source": [
    "gt_sitk"
   ]
  },
  {
   "cell_type": "code",
   "execution_count": 53,
   "id": "0a0e2575-6c08-476d-bbac-b218c6857abb",
   "metadata": {},
   "outputs": [],
   "source": [
    "overlap_measures_filter = sitk.LabelOverlapMeasuresImageFilter()\n",
    "\n",
    "hausdorff_distance_filter = sitk.HausdorffDistanceImageFilter()"
   ]
  },
  {
   "cell_type": "code",
   "execution_count": 54,
   "id": "8331266f-4b30-4df1-9d8f-e5a140c3cf60",
   "metadata": {},
   "outputs": [],
   "source": [
    "overlap_measures_filter.Execute(gt_sitk, fs_sitk)"
   ]
  },
  {
   "cell_type": "code",
   "execution_count": 55,
   "id": "62b2da2e-26ed-4ae0-97e9-d99c28ea08ff",
   "metadata": {},
   "outputs": [
    {
     "data": {
      "text/plain": [
       "0.9694744444232217"
      ]
     },
     "execution_count": 55,
     "metadata": {},
     "output_type": "execute_result"
    }
   ],
   "source": [
    "overlap_measures_filter.GetJaccardCoefficient()"
   ]
  },
  {
   "cell_type": "code",
   "execution_count": 58,
   "id": "2e314afb-4ccb-4c6b-9a96-2cc1c7b5ca48",
   "metadata": {},
   "outputs": [
    {
     "data": {
      "text/plain": [
       "0.9845006592173792"
      ]
     },
     "execution_count": 58,
     "metadata": {},
     "output_type": "execute_result"
    }
   ],
   "source": [
    "overlap_measures_filter.GetDiceCoefficient()"
   ]
  },
  {
   "cell_type": "code",
   "execution_count": 59,
   "id": "4180a410-7150-416e-be5e-79b3f4e407ab",
   "metadata": {},
   "outputs": [],
   "source": [
    "hausdorff_distance_filter.Execute(gt_sitk, fs_sitk)"
   ]
  },
  {
   "cell_type": "code",
   "execution_count": 60,
   "id": "2ee934c1-a811-4b73-9b4f-c5d46b733627",
   "metadata": {},
   "outputs": [
    {
     "data": {
      "text/plain": [
       "15.411342577635269"
      ]
     },
     "execution_count": 60,
     "metadata": {},
     "output_type": "execute_result"
    }
   ],
   "source": [
    "hausdorff_distance_filter.GetHausdorffDistance()\n"
   ]
  },
  {
   "cell_type": "code",
   "execution_count": 72,
   "id": "2a92db66-8912-4098-9421-fb73a48f3cfd",
   "metadata": {},
   "outputs": [],
   "source": [
    "# let's try resizing the our_file\n",
    "# https://www.programcreek.com/python/example/96383/SimpleITK.sitkNearestNeighbor\n",
    "\n",
    "ours_sitk = sitk.ReadImage(ours_file, sitk.sitkUInt8)\n",
    "\n",
    "resample = sitk.ResampleImageFilter()\n",
    "resample.SetSize(gt_sitk.GetSize())\n",
    "resample.SetInterpolator(sitk.sitkNearestNeighbor)\n",
    "ours_sitk_res = resample.Execute(ours_sitk)"
   ]
  },
  {
   "cell_type": "code",
   "execution_count": 73,
   "id": "875806f0-c9a1-4bf9-a9f7-f2e522911bd6",
   "metadata": {},
   "outputs": [
    {
     "data": {
      "text/plain": [
       "(352, 352, 352)"
      ]
     },
     "execution_count": 73,
     "metadata": {},
     "output_type": "execute_result"
    }
   ],
   "source": [
    "ours_sitk_res.GetSize()"
   ]
  },
  {
   "cell_type": "code",
   "execution_count": 74,
   "id": "c3d15cf5-4d09-4c74-a626-4ba59b4ff3ca",
   "metadata": {},
   "outputs": [
    {
     "data": {
      "text/plain": [
       "array([0, 1, 2, 3, 4], dtype=uint8)"
      ]
     },
     "execution_count": 74,
     "metadata": {},
     "output_type": "execute_result"
    }
   ],
   "source": [
    "# now that its resized, lets replace the labels to the correct ones in order to make a comparison\n",
    "ours_sitk_res_data = sitk.GetArrayFromImage(ours_sitk_res)\n",
    "np.unique(ours_sitk_res_data)"
   ]
  },
  {
   "cell_type": "code",
   "execution_count": 75,
   "id": "f5300c6f-19ab-4e7c-8ad0-ca954159f6ba",
   "metadata": {},
   "outputs": [
    {
     "data": {
      "text/plain": [
       "array([ 0,  2,  3, 41, 42], dtype=uint8)"
      ]
     },
     "execution_count": 75,
     "metadata": {},
     "output_type": "execute_result"
    }
   ],
   "source": [
    "ours_sitk_labels = ours_to_fs_labels(ours_sitk_res_data)\n",
    "np.unique(ours_sitk_labels)"
   ]
  },
  {
   "cell_type": "code",
   "execution_count": 79,
   "id": "863050f1-b62f-415e-8bac-809af73328ea",
   "metadata": {},
   "outputs": [],
   "source": [
    "# convert numpy array back to sitk img\n",
    "ours_sitk_finn = sitk.GetImageFromArray(ours_sitk_labels)\n"
   ]
  },
  {
   "cell_type": "markdown",
   "id": "aafe707f-9934-44a8-85ad-89d1a5f483bc",
   "metadata": {},
   "source": [
    "_________________\n",
    "\n",
    "**Let's see how well our seg performs!**"
   ]
  },
  {
   "cell_type": "code",
   "execution_count": 80,
   "id": "be7c1085-ab0a-491b-96cc-524980affdb7",
   "metadata": {},
   "outputs": [
    {
     "ename": "RuntimeError",
     "evalue": "Exception thrown in SimpleITK LabelOverlapMeasuresImageFilter_Execute: /usr/include/ITK-5.2/itkImageToImageFilter.hxx:219:\nITK ERROR: LabelOverlapMeasuresImageFilter(0x56442c7e6f60): Inputs do not occupy the same physical space! \nInputImage Origin: [-1.0330791e+02, 1.1851447e+02, 1.1355736e+02], InputImage_1 Origin: [0.0000000e+00, 0.0000000e+00, 0.0000000e+00]\n\tTolerance: 5.9943175e-07\nInputImage Spacing: [5.9943175e-01, 5.9943175e-01, 5.9943175e-01], InputImage_1 Spacing: [1.0000000e+00, 1.0000000e+00, 1.0000000e+00]\n\tTolerance: 5.9943175e-07\nInputImage Direction: 1.0000000e+00 0.0000000e+00 0.0000000e+00\n0.0000000e+00 -0.0000000e+00 -1.0000000e+00\n0.0000000e+00 -1.0000000e+00 -0.0000000e+00\n, InputImage_1 Direction: 1.0000000e+00 0.0000000e+00 0.0000000e+00\n0.0000000e+00 1.0000000e+00 0.0000000e+00\n0.0000000e+00 0.0000000e+00 1.0000000e+00\n\n\tTolerance: 1.0000000e-06\n",
     "output_type": "error",
     "traceback": [
      "\u001b[0;31m---------------------------------------------------------------------------\u001b[0m",
      "\u001b[0;31mRuntimeError\u001b[0m                              Traceback (most recent call last)",
      "\u001b[0;32m/tmp/ipykernel_626889/4139013044.py\u001b[0m in \u001b[0;36m<module>\u001b[0;34m\u001b[0m\n\u001b[0;32m----> 1\u001b[0;31m \u001b[0moverlap_measures_filter\u001b[0m\u001b[0;34m.\u001b[0m\u001b[0mExecute\u001b[0m\u001b[0;34m(\u001b[0m\u001b[0mgt_sitk\u001b[0m\u001b[0;34m,\u001b[0m \u001b[0mours_sitk_finn\u001b[0m\u001b[0;34m)\u001b[0m\u001b[0;34m\u001b[0m\u001b[0;34m\u001b[0m\u001b[0m\n\u001b[0m\u001b[1;32m      2\u001b[0m \u001b[0mprint\u001b[0m\u001b[0;34m(\u001b[0m\u001b[0moverlap_measures_filter\u001b[0m\u001b[0;34m.\u001b[0m\u001b[0mGetJaccardCoefficient\u001b[0m\u001b[0;34m(\u001b[0m\u001b[0;34m)\u001b[0m\u001b[0;34m)\u001b[0m\u001b[0;34m\u001b[0m\u001b[0;34m\u001b[0m\u001b[0m\n\u001b[1;32m      3\u001b[0m \u001b[0mprint\u001b[0m\u001b[0;34m(\u001b[0m\u001b[0moverlap_measures_filter\u001b[0m\u001b[0;34m.\u001b[0m\u001b[0mGetDiceCoefficient\u001b[0m\u001b[0;34m(\u001b[0m\u001b[0;34m)\u001b[0m\u001b[0;34m)\u001b[0m\u001b[0;34m\u001b[0m\u001b[0;34m\u001b[0m\u001b[0m\n",
      "\u001b[0;32m/usr/lib/python3.10/site-packages/SimpleITK/SimpleITK.py\u001b[0m in \u001b[0;36mExecute\u001b[0;34m(self, image1, image2)\u001b[0m\n\u001b[1;32m  35814\u001b[0m \u001b[0;34m\u001b[0m\u001b[0m\n\u001b[1;32m  35815\u001b[0m         \"\"\"\n\u001b[0;32m> 35816\u001b[0;31m         \u001b[0;32mreturn\u001b[0m \u001b[0m_SimpleITK\u001b[0m\u001b[0;34m.\u001b[0m\u001b[0mLabelOverlapMeasuresImageFilter_Execute\u001b[0m\u001b[0;34m(\u001b[0m\u001b[0mself\u001b[0m\u001b[0;34m,\u001b[0m \u001b[0mimage1\u001b[0m\u001b[0;34m,\u001b[0m \u001b[0mimage2\u001b[0m\u001b[0;34m)\u001b[0m\u001b[0;34m\u001b[0m\u001b[0;34m\u001b[0m\u001b[0m\n\u001b[0m\u001b[1;32m  35817\u001b[0m \u001b[0;34m\u001b[0m\u001b[0m\n\u001b[1;32m  35818\u001b[0m \u001b[0;31m# Register LabelOverlapMeasuresImageFilter in _SimpleITK:\u001b[0m\u001b[0;34m\u001b[0m\u001b[0;34m\u001b[0m\u001b[0m\n",
      "\u001b[0;31mRuntimeError\u001b[0m: Exception thrown in SimpleITK LabelOverlapMeasuresImageFilter_Execute: /usr/include/ITK-5.2/itkImageToImageFilter.hxx:219:\nITK ERROR: LabelOverlapMeasuresImageFilter(0x56442c7e6f60): Inputs do not occupy the same physical space! \nInputImage Origin: [-1.0330791e+02, 1.1851447e+02, 1.1355736e+02], InputImage_1 Origin: [0.0000000e+00, 0.0000000e+00, 0.0000000e+00]\n\tTolerance: 5.9943175e-07\nInputImage Spacing: [5.9943175e-01, 5.9943175e-01, 5.9943175e-01], InputImage_1 Spacing: [1.0000000e+00, 1.0000000e+00, 1.0000000e+00]\n\tTolerance: 5.9943175e-07\nInputImage Direction: 1.0000000e+00 0.0000000e+00 0.0000000e+00\n0.0000000e+00 -0.0000000e+00 -1.0000000e+00\n0.0000000e+00 -1.0000000e+00 -0.0000000e+00\n, InputImage_1 Direction: 1.0000000e+00 0.0000000e+00 0.0000000e+00\n0.0000000e+00 1.0000000e+00 0.0000000e+00\n0.0000000e+00 0.0000000e+00 1.0000000e+00\n\n\tTolerance: 1.0000000e-06\n"
     ]
    }
   ],
   "source": [
    "overlap_measures_filter.Execute(gt_sitk, ours_sitk_finn)\n",
    "print(overlap_measures_filter.GetJaccardCoefficient())\n",
    "print(overlap_measures_filter.GetDiceCoefficient())"
   ]
  },
  {
   "cell_type": "code",
   "execution_count": null,
   "id": "46bb78d4-a534-4aad-876c-5af6886bb07c",
   "metadata": {},
   "outputs": [],
   "source": []
  },
  {
   "cell_type": "code",
   "execution_count": null,
   "id": "9a56069d-319d-418c-8473-aa3ef60dee38",
   "metadata": {},
   "outputs": [],
   "source": []
  },
  {
   "cell_type": "code",
   "execution_count": null,
   "id": "7e2a9a49-a283-4876-b3d5-97c2abeb8ca7",
   "metadata": {},
   "outputs": [],
   "source": []
  },
  {
   "cell_type": "code",
   "execution_count": null,
   "id": "0792501e-2810-4048-b258-0858758c3d05",
   "metadata": {},
   "outputs": [],
   "source": []
  }
 ],
 "metadata": {
  "kernelspec": {
   "display_name": "Python 3 (ipykernel)",
   "language": "python",
   "name": "python3"
  },
  "language_info": {
   "codemirror_mode": {
    "name": "ipython",
    "version": 3
   },
   "file_extension": ".py",
   "mimetype": "text/x-python",
   "name": "python",
   "nbconvert_exporter": "python",
   "pygments_lexer": "ipython3",
   "version": "3.10.2"
  }
 },
 "nbformat": 4,
 "nbformat_minor": 5
}
