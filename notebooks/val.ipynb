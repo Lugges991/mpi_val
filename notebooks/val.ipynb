{
 "cells": [
  {
   "cell_type": "markdown",
   "metadata": {},
   "source": [
    "# Evaluation"
   ]
  },
  {
   "cell_type": "code",
   "execution_count": 1,
   "metadata": {},
   "outputs": [],
   "source": [
    "import numpy as np\n",
    "import nibabel as nib\n",
    "from pathlib import Path"
   ]
  },
  {
   "cell_type": "code",
   "execution_count": 2,
   "metadata": {},
   "outputs": [],
   "source": [
    "orig_file = \"/home/lmahler/data/me0801/me0801_orig.nii\"\n",
    "fs_file = \"/home/lmahler/data/me0801/me0801_rca/me0801_wts15_reconall/mri/ribbon.nii\"\n",
    "ours_file = \"/home/lmahler/data/me0801/me0801_ours/me0801_mask.nii\"\n",
    "gt_file = \"/home/lmahler/data/me0801/me0801_seg/me0801_seg.nii\""
   ]
  },
  {
   "cell_type": "code",
   "execution_count": 3,
   "metadata": {},
   "outputs": [],
   "source": [
    "# load the files\n",
    "fs_obj = nib.load(fs_file)\n",
    "ours_obj = nib.load(ours_file)\n",
    "gt_obj = nib.load(gt_file)\n",
    "orig_obj = nib.load(orig_file)"
   ]
  },
  {
   "cell_type": "code",
   "execution_count": 5,
   "metadata": {},
   "outputs": [],
   "source": [
    "# get the data\n",
    "fs_data = fs_obj.get_fdata()\n",
    "ours_data = ours_obj.get_fdata()\n",
    "gt_data = gt_obj.get_fdata()"
   ]
  },
  {
   "cell_type": "markdown",
   "metadata": {},
   "source": [
    "**Labels:**\n",
    "Ribbon Prediction:\n",
    "\n",
    "Freesurfer:\n",
    "0: BG\n",
    "2: Left WM\n",
    "3: Left GM\n",
    "41: Right WM\n",
    "42: Right GM\n",
    "\n",
    "Ours:\n",
    "0: BG\n",
    "1: Left WM\n",
    "2: Left GM\n",
    "3: Right WM\n",
    "4: Right GM\n",
    "\n",
    "|          | FS | Ours |\n",
    "|----------|----|------|\n",
    "| BG       | 0  | 0    |\n",
    "| Left WM  | 2  | 1    |\n",
    "| Left GM  | 3  | 2    |\n",
    "| Right WM | 41 | 3    |\n",
    "| Right GM | 42 | 4    |"
   ]
  },
  {
   "cell_type": "code",
   "execution_count": 6,
   "metadata": {},
   "outputs": [],
   "source": [
    "def ours_to_fs_labels(data):\n",
    "    data = np.where(data == 4, 42, data)\n",
    "    data = np.where(data == 3, 41, data)\n",
    "    data = np.where(data == 2, 3, data)\n",
    "    data = np.where(data == 1, 2, data)\n",
    "    return data\n",
    "\n",
    "ours_data = ours_to_fs_labels(ours_data)"
   ]
  },
  {
   "cell_type": "code",
   "execution_count": 7,
   "metadata": {},
   "outputs": [
    {
     "data": {
      "text/plain": [
       "numpy.ndarray"
      ]
     },
     "execution_count": 7,
     "metadata": {},
     "output_type": "execute_result"
    }
   ],
   "source": [
    "type(ours_data)"
   ]
  },
  {
   "cell_type": "code",
   "execution_count": 8,
   "metadata": {},
   "outputs": [],
   "source": [
    "from nilearn.image import resample_img"
   ]
  },
  {
   "cell_type": "code",
   "execution_count": 9,
   "metadata": {},
   "outputs": [
    {
     "data": {
      "text/plain": [
       "(384, 384, 384)"
      ]
     },
     "execution_count": 9,
     "metadata": {},
     "output_type": "execute_result"
    }
   ],
   "source": [
    "ours_data.shape"
   ]
  },
  {
   "cell_type": "code",
   "execution_count": 10,
   "metadata": {},
   "outputs": [
    {
     "ename": "ValueError",
     "evalue": "If target_shape is specified, target_affine should be specified too.",
     "output_type": "error",
     "traceback": [
      "\u001b[0;31m---------------------------------------------------------------------------\u001b[0m",
      "\u001b[0;31mValueError\u001b[0m                                Traceback (most recent call last)",
      "\u001b[0;32m<ipython-input-10-5b42ca0b6688>\u001b[0m in \u001b[0;36m<module>\u001b[0;34m\u001b[0m\n\u001b[0;32m----> 1\u001b[0;31m \u001b[0mours_data\u001b[0m \u001b[0;34m=\u001b[0m \u001b[0mresample_img\u001b[0m\u001b[0;34m(\u001b[0m\u001b[0mours_data\u001b[0m\u001b[0;34m,\u001b[0m \u001b[0mtarget_shape\u001b[0m\u001b[0;34m=\u001b[0m\u001b[0mgt_data\u001b[0m\u001b[0;34m.\u001b[0m\u001b[0mshape\u001b[0m\u001b[0;34m,\u001b[0m \u001b[0minterpolation\u001b[0m\u001b[0;34m=\u001b[0m\u001b[0;34m\"nearest\"\u001b[0m\u001b[0;34m)\u001b[0m\u001b[0;34m\u001b[0m\u001b[0;34m\u001b[0m\u001b[0m\n\u001b[0m",
      "\u001b[0;32m~/.local/lib/python3.10/site-packages/nilearn/image/resampling.py\u001b[0m in \u001b[0;36mresample_img\u001b[0;34m(img, target_affine, target_shape, interpolation, copy, order, clip, fill_value, force_resample)\u001b[0m\n\u001b[1;32m    408\u001b[0m     \u001b[0;31m# costly calls before raising an exception.\u001b[0m\u001b[0;34m\u001b[0m\u001b[0;34m\u001b[0m\u001b[0m\n\u001b[1;32m    409\u001b[0m     \u001b[0;32mif\u001b[0m \u001b[0mtarget_shape\u001b[0m \u001b[0;32mis\u001b[0m \u001b[0;32mnot\u001b[0m \u001b[0;32mNone\u001b[0m \u001b[0;32mand\u001b[0m \u001b[0mtarget_affine\u001b[0m \u001b[0;32mis\u001b[0m \u001b[0;32mNone\u001b[0m\u001b[0;34m:\u001b[0m\u001b[0;34m\u001b[0m\u001b[0;34m\u001b[0m\u001b[0m\n\u001b[0;32m--> 410\u001b[0;31m         raise ValueError(\"If target_shape is specified, target_affine should\"\n\u001b[0m\u001b[1;32m    411\u001b[0m                          \" be specified too.\")\n\u001b[1;32m    412\u001b[0m \u001b[0;34m\u001b[0m\u001b[0m\n",
      "\u001b[0;31mValueError\u001b[0m: If target_shape is specified, target_affine should be specified too."
     ]
    }
   ],
   "source": [
    "ours_data = resample_img(ours_data, target_shape=gt_data.shape, interpolation=\"nearest\")"
   ]
  },
  {
   "cell_type": "code",
   "execution_count": null,
   "metadata": {},
   "outputs": [],
   "source": []
  }
 ],
 "metadata": {
  "kernelspec": {
   "display_name": "Python 3",
   "language": "python",
   "name": "python3"
  },
  "language_info": {
   "codemirror_mode": {
    "name": "ipython",
    "version": 3
   },
   "file_extension": ".py",
   "mimetype": "text/x-python",
   "name": "python",
   "nbconvert_exporter": "python",
   "pygments_lexer": "ipython3",
   "version": "3.10.2"
  }
 },
 "nbformat": 4,
 "nbformat_minor": 4
}
