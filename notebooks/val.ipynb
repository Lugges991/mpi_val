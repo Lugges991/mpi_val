{
 "cells": [
  {
   "cell_type": "markdown",
   "id": "2bf7fd24-049f-407d-9aec-2954c2843b41",
   "metadata": {},
   "source": [
    "# Validation of FS vs GT and Ours vs GT"
   ]
  },
  {
   "cell_type": "code",
   "execution_count": 1,
   "id": "33c33cf2-175a-495b-bbfb-f46cc4964644",
   "metadata": {},
   "outputs": [],
   "source": [
    "import numpy as np\n",
    "import nibabel as nib\n",
    "from pathlib import Path"
   ]
  },
  {
   "cell_type": "code",
   "execution_count": 2,
   "id": "9aa5538b-8469-4621-9d55-739d74ccacc3",
   "metadata": {},
   "outputs": [],
   "source": [
    "orig_file = \"/home/lugges/Documents/MPI_BK/validation/me0801/me0801.nii\"\n",
    "fs_file = \"/home/lugges/Documents/MPI_BK/validation/me0801/me0801_rca/me0801_wts15_reconall/mri/ribbon.nii\"\n",
    "ours_file = \"/home/lugges/Documents/MPI_BK/validation/me0801/me0801_ours/me0801_mask.nii\"\n",
    "gt_file = \"/home/lugges/Documents/MPI_BK/validation/me0801/me0801_seg/ribbon_Dez_19.nii\""
   ]
  },
  {
   "cell_type": "code",
   "execution_count": 3,
   "id": "105f4b88-3a80-4c13-bf97-b8c3e11e0dda",
   "metadata": {},
   "outputs": [],
   "source": [
    "# load the files\n",
    "fs_obj = nib.load(fs_file)\n",
    "ours_obj = nib.load(ours_file)\n",
    "gt_obj = nib.load(gt_file)\n",
    "orig_obj = nib.load(orig_file)"
   ]
  },
  {
   "cell_type": "code",
   "execution_count": 4,
   "id": "629cadbd-e41f-4eaa-8631-0d21d182f53f",
   "metadata": {},
   "outputs": [
    {
     "data": {
      "text/plain": [
       "(352, 352, 352)"
      ]
     },
     "execution_count": 4,
     "metadata": {},
     "output_type": "execute_result"
    }
   ],
   "source": [
    "fs_obj.shape"
   ]
  },
  {
   "cell_type": "code",
   "execution_count": 5,
   "id": "6f05d0de-cf6f-4c5a-bbbc-ed7a2a97d335",
   "metadata": {},
   "outputs": [
    {
     "data": {
      "text/plain": [
       "(384, 384, 384)"
      ]
     },
     "execution_count": 5,
     "metadata": {},
     "output_type": "execute_result"
    }
   ],
   "source": [
    "ours_obj.shape"
   ]
  },
  {
   "cell_type": "code",
   "execution_count": 6,
   "id": "fb63f74f-32c0-4167-928f-655c204702ac",
   "metadata": {},
   "outputs": [
    {
     "data": {
      "text/plain": [
       "(352, 352, 352)"
      ]
     },
     "execution_count": 6,
     "metadata": {},
     "output_type": "execute_result"
    }
   ],
   "source": [
    "gt_obj.shape"
   ]
  },
  {
   "cell_type": "code",
   "execution_count": 7,
   "id": "0b46d55f-aba4-448d-973b-99610ff0a14f",
   "metadata": {},
   "outputs": [
    {
     "data": {
      "text/plain": [
       "(352, 352, 256)"
      ]
     },
     "execution_count": 7,
     "metadata": {},
     "output_type": "execute_result"
    }
   ],
   "source": [
    "orig_obj.shape"
   ]
  },
  {
   "cell_type": "code",
   "execution_count": 8,
   "id": "20135233-a3e3-449c-81b8-285aca9bba72",
   "metadata": {},
   "outputs": [],
   "source": [
    "fs_data = fs_obj.get_fdata()\n",
    "ours_data = ours_obj.get_fdata()\n",
    "gt_data = gt_obj.get_fdata()"
   ]
  },
  {
   "cell_type": "code",
   "execution_count": 9,
   "id": "cffd65b7-a1d4-4a8b-b9dc-854a9d1a8890",
   "metadata": {},
   "outputs": [
    {
     "data": {
      "text/plain": [
       "array([0., 1., 2., 3., 4.])"
      ]
     },
     "execution_count": 9,
     "metadata": {},
     "output_type": "execute_result"
    }
   ],
   "source": [
    "np.unique(ours_data)"
   ]
  },
  {
   "cell_type": "code",
   "execution_count": 10,
   "id": "0a36c4c6-55ee-476b-82e0-1ca6eea10c99",
   "metadata": {},
   "outputs": [
    {
     "data": {
      "text/plain": [
       "array([ 0.,  2.,  3., 41., 42.])"
      ]
     },
     "execution_count": 10,
     "metadata": {},
     "output_type": "execute_result"
    }
   ],
   "source": [
    "np.unique(fs_data)"
   ]
  },
  {
   "cell_type": "code",
   "execution_count": 11,
   "id": "a98ac6f2-816e-45dc-9f12-8496fb9a0616",
   "metadata": {},
   "outputs": [
    {
     "data": {
      "text/plain": [
       "array([ 0.,  2.,  3., 41., 42.])"
      ]
     },
     "execution_count": 11,
     "metadata": {},
     "output_type": "execute_result"
    }
   ],
   "source": [
    "np.unique(gt_data)"
   ]
  },
  {
   "cell_type": "markdown",
   "id": "bffe6ea3-1c86-42d1-8f1f-7753b458a649",
   "metadata": {},
   "source": [
    "**Labels:**\n",
    "Ribbon Prediction:\n",
    "\n",
    "Freesurfer:\n",
    "0: BG\n",
    "2: Left WM\n",
    "3: Left GM\n",
    "41: Right WM\n",
    "42: Right GM\n",
    "\n",
    "Ours:\n",
    "0: BG\n",
    "1: Left WM\n",
    "2: Left GM\n",
    "3: Right WM\n",
    "4: Right GM\n",
    "\n",
    "|          | FS | Ours |\n",
    "|----------|----|------|\n",
    "| BG       | 0  | 0    |\n",
    "| Left WM  | 2  | 1    |\n",
    "| Left GM  | 3  | 2    |\n",
    "| Right WM | 41 | 3    |\n",
    "| Right GM | 42 | 4    |"
   ]
  },
  {
   "cell_type": "code",
   "execution_count": 12,
   "id": "e11eb43b-8d35-4b7b-8987-ec5806d19e1b",
   "metadata": {},
   "outputs": [],
   "source": [
    "def ours_to_fs_labels(data):\n",
    "    data = np.where(data == 4, 42, data)\n",
    "    data = np.where(data == 3, 41, data)\n",
    "    data = np.where(data == 2, 3, data)\n",
    "    data = np.where(data == 1, 2, data)\n",
    "    return data"
   ]
  },
  {
   "cell_type": "code",
   "execution_count": 13,
   "id": "2bd46c70-f217-489f-9f8f-e50b60db6e9f",
   "metadata": {},
   "outputs": [],
   "source": [
    "ours_data = ours_to_fs_labels(ours_data)"
   ]
  },
  {
   "cell_type": "code",
   "execution_count": 14,
   "id": "d98d8f82-2e6d-402c-ae52-1131c2505888",
   "metadata": {},
   "outputs": [
    {
     "data": {
      "text/plain": [
       "(384, 384, 384)"
      ]
     },
     "execution_count": 14,
     "metadata": {},
     "output_type": "execute_result"
    }
   ],
   "source": [
    "ours_data.shape"
   ]
  },
  {
   "cell_type": "code",
   "execution_count": 15,
   "id": "d6c9b66d-cd51-496a-8b3f-516e0c253a86",
   "metadata": {},
   "outputs": [
    {
     "data": {
      "text/plain": [
       "array([[   0.60000002,   -0.        ,   -0.        , -116.69263458],\n",
       "       [  -0.        ,    0.60000002,   -0.        , -128.11448669],\n",
       "       [   0.        ,    0.        ,    0.60000002, -106.5426178 ],\n",
       "       [   0.        ,    0.        ,    0.        ,    1.        ]])"
      ]
     },
     "execution_count": 15,
     "metadata": {},
     "output_type": "execute_result"
    }
   ],
   "source": [
    "ours_obj.affine"
   ]
  },
  {
   "cell_type": "code",
   "execution_count": 16,
   "id": "e4ca0e1c-710d-4b87-87fd-7de1cd71f046",
   "metadata": {},
   "outputs": [],
   "source": [
    "from nilearn.image import resample_img"
   ]
  },
  {
   "cell_type": "code",
   "execution_count": 17,
   "id": "54e82180-44d9-4360-a975-9b8e1e453bf0",
   "metadata": {},
   "outputs": [
    {
     "name": "stderr",
     "output_type": "stream",
     "text": [
      "/home/lugges/.local/lib/python3.10/site-packages/nilearn/image/resampling.py:531: UserWarning: Casting data from int8 to float32\n",
      "  warnings.warn(\"Casting data from %s to %s\" % (data.dtype.name, aux))\n"
     ]
    }
   ],
   "source": [
    "ours_res = resample_img(ours_obj, target_affine=gt_obj.affine, target_shape=gt_obj.shape)"
   ]
  },
  {
   "cell_type": "code",
   "execution_count": 18,
   "id": "6f25dab0-a7c4-48ee-a5dc-1b08074b3979",
   "metadata": {},
   "outputs": [
    {
     "data": {
      "text/plain": [
       "(352, 352, 352)"
      ]
     },
     "execution_count": 18,
     "metadata": {},
     "output_type": "execute_result"
    }
   ],
   "source": [
    "ours_res.shape"
   ]
  },
  {
   "cell_type": "code",
   "execution_count": 19,
   "id": "d51e03d1-4398-40e4-b2d0-395f26473584",
   "metadata": {},
   "outputs": [],
   "source": [
    "ours_data = ours_to_fs_labels(ours_res.get_fdata())"
   ]
  },
  {
   "cell_type": "code",
   "execution_count": 20,
   "id": "a93adbf2-16db-4a7f-8e99-ac7aa69929a1",
   "metadata": {},
   "outputs": [
    {
     "data": {
      "text/plain": [
       "array([0.00000000e+00, 1.40129846e-45, 2.80259693e-45, ...,\n",
       "       3.99999976e+00, 4.10000000e+01, 4.20000000e+01])"
      ]
     },
     "execution_count": 20,
     "metadata": {},
     "output_type": "execute_result"
    }
   ],
   "source": [
    "np.unique(ours_data)"
   ]
  },
  {
   "cell_type": "code",
   "execution_count": 21,
   "id": "47a70d4d-3c4e-48c4-9f39-910fb6d7fee7",
   "metadata": {},
   "outputs": [
    {
     "data": {
      "text/plain": [
       "array([0.00000000e+00, 1.40129846e-45, 2.80259693e-45, ...,\n",
       "       3.99999928e+00, 3.99999976e+00, 4.00000000e+00])"
      ]
     },
     "execution_count": 21,
     "metadata": {},
     "output_type": "execute_result"
    }
   ],
   "source": [
    "np.unique(ours_res.get_fdata())"
   ]
  },
  {
   "cell_type": "code",
   "execution_count": 22,
   "id": "1cc16402-b3f4-4e3f-8ef4-8402020f917b",
   "metadata": {},
   "outputs": [],
   "source": [
    "# ToDo:\n",
    "# transform ours.shape (384, 384, 384) to ours.shape(352, 352, 352)\n"
   ]
  },
  {
   "cell_type": "markdown",
   "id": "b66d7749-4420-41c6-ba1a-a10616fb6411",
   "metadata": {},
   "source": [
    "# Metrics\n",
    "\n",
    "- IoU, voraussichtlich min(IoU, boundary IoU)  # Drop Background\n",
    "- Hausdorff Distance (voraussichtlich die 95. Quantile)\n",
    "- Variation of Information\n",
    "\n",
    "\n",
    "\n",
    "maybe create one channel for each label? -> transform to channel-wise binary labels?\n",
    "\n",
    "meanIoU in pyTorch: https://github.com/wolny/pytorch-3dunet/blob/master/pytorch3dunet/unet3d/metrics.py\n",
    "\n"
   ]
  },
  {
   "cell_type": "markdown",
   "id": "60b8db14-7d26-4710-b866-24dec05a72cd",
   "metadata": {
    "tags": []
   },
   "source": [
    "## Volumetric IoU\n",
    "\n",
    "$$JAC = \\frac{TP}{TP + FP + FN}$$"
   ]
  },
  {
   "cell_type": "code",
   "execution_count": 23,
   "id": "1183f561-66a9-4376-9147-145c5f5d16e1",
   "metadata": {},
   "outputs": [],
   "source": [
    "def volumetric_iou(gt, pred):\n",
    "    ious = []\n",
    "    for i in np.unique(gt):\n",
    "        intersec = np.logical_and(gt==i, pred==i)\n",
    "        union = np.logical_or(gt==i, pred==i)\n",
    "        ious.append(np.sum(intersec)/np.sum(union))\n",
    "    return sum(ious) / len(ious)"
   ]
  },
  {
   "cell_type": "code",
   "execution_count": 24,
   "id": "3576b5c4-b223-4f47-926c-908d553561bf",
   "metadata": {},
   "outputs": [],
   "source": [
    "def hausdorff_distance():\n",
    "    pass"
   ]
  },
  {
   "cell_type": "markdown",
   "id": "06c4b99c-fbd3-4e19-b3e5-006479b3b052",
   "metadata": {
    "tags": []
   },
   "source": [
    "## Variation of Information\n",
    "\n",
    "$S_g$ is the ground truth partition and $S_t$ is the segmentation. Then the variation of information $VOI(S_g, S_t)$ is defined as:\n",
    "$$VOI(S_g, S_t) = H(S_g) + H(S_t) - 2MI(S_g, S_t) $$\n",
    ", where the mutual information $MI(S_g, S_t)$ is defined as:\n",
    "$$MI(S_g, S_t) = H(S_g) + H(S_t) - H(S_g, S_t)$$"
   ]
  },
  {
   "cell_type": "code",
   "execution_count": 26,
   "id": "1fa9bff0-a001-4833-96b5-82b88a31d4ad",
   "metadata": {},
   "outputs": [],
   "source": [
    "from scipy.stats import entropy\n",
    "\n",
    "def mutual_information(gt, pred):\n",
    "    pass\n",
    "\n",
    "\n",
    "def variation_of_information(gt, pred):\n",
    "    pass"
   ]
  },
  {
   "cell_type": "code",
   "execution_count": null,
   "id": "62733556-9e57-4707-b747-7345192179e0",
   "metadata": {},
   "outputs": [],
   "source": []
  },
  {
   "cell_type": "code",
   "execution_count": 27,
   "id": "00f90b4b-3eb7-401a-9e9d-a06fb5e17d54",
   "metadata": {},
   "outputs": [],
   "source": [
    "def label_to_bool_arr(data, label):\n",
    "    return np.where(data==label, 1, data)"
   ]
  },
  {
   "cell_type": "code",
   "execution_count": 28,
   "id": "69ba9b32-3160-4bc4-8195-0d8c802156de",
   "metadata": {},
   "outputs": [],
   "source": [
    "test1 = label_to_bool_arr(gt_data, 2)"
   ]
  },
  {
   "cell_type": "code",
   "execution_count": 29,
   "id": "0c835f49-2129-4baf-abf9-23bf8255dfbf",
   "metadata": {},
   "outputs": [
    {
     "data": {
      "text/plain": [
       "array([ 0.,  1.,  3., 41., 42.])"
      ]
     },
     "execution_count": 29,
     "metadata": {},
     "output_type": "execute_result"
    }
   ],
   "source": [
    "np.unique(test1)"
   ]
  },
  {
   "cell_type": "code",
   "execution_count": 30,
   "id": "7c0eea15-7fdb-4fb6-baf3-a923c242e3cc",
   "metadata": {},
   "outputs": [],
   "source": [
    "hero = np.logical_and(gt_data==2, fs_data==2)"
   ]
  },
  {
   "cell_type": "code",
   "execution_count": 31,
   "id": "ebc7dafc-d710-43d2-8e94-875df73f2f35",
   "metadata": {},
   "outputs": [],
   "source": [
    "sucker = np.logical_or(gt_data==2, fs_data==2)"
   ]
  },
  {
   "cell_type": "code",
   "execution_count": 32,
   "id": "8c78a8e0-6c1e-4d26-ad73-00416e167f45",
   "metadata": {},
   "outputs": [
    {
     "data": {
      "text/plain": [
       "0.9970613609692579"
      ]
     },
     "execution_count": 32,
     "metadata": {},
     "output_type": "execute_result"
    }
   ],
   "source": [
    "np.sum(hero) / np.sum(sucker)"
   ]
  },
  {
   "cell_type": "code",
   "execution_count": 33,
   "id": "c88f44df-6729-4c23-bd48-aea00d483010",
   "metadata": {},
   "outputs": [],
   "source": [
    "iou = volumetric_iou(gt_data, fs_data)"
   ]
  },
  {
   "cell_type": "code",
   "execution_count": 34,
   "id": "74b5e6b2-2c14-4dac-8227-c3a9258a3dab",
   "metadata": {},
   "outputs": [
    {
     "data": {
      "text/plain": [
       "0.9756320835680906"
      ]
     },
     "execution_count": 34,
     "metadata": {},
     "output_type": "execute_result"
    }
   ],
   "source": [
    "iou"
   ]
  },
  {
   "cell_type": "code",
   "execution_count": null,
   "id": "1db67f8a-2cc1-4987-8f10-89d841ef772d",
   "metadata": {},
   "outputs": [],
   "source": []
  }
 ],
 "metadata": {
  "kernelspec": {
   "display_name": "Python 3 (ipykernel)",
   "language": "python",
   "name": "python3"
  },
  "language_info": {
   "codemirror_mode": {
    "name": "ipython",
    "version": 3
   },
   "file_extension": ".py",
   "mimetype": "text/x-python",
   "name": "python",
   "nbconvert_exporter": "python",
   "pygments_lexer": "ipython3",
   "version": "3.10.2"
  }
 },
 "nbformat": 4,
 "nbformat_minor": 5
}
