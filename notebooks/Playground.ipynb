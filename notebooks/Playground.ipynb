{
 "cells": [
  {
   "cell_type": "code",
   "execution_count": 1,
   "id": "a59b7834-ff91-4b3e-bd23-16fc391d1530",
   "metadata": {},
   "outputs": [],
   "source": [
    "import numpy as np\n",
    "import nibabel as nib\n",
    "from nilearn.image import resample_img\n"
   ]
  },
  {
   "cell_type": "code",
   "execution_count": 2,
   "id": "def1b3c3-501b-4608-aab4-1b46396dd12a",
   "metadata": {},
   "outputs": [],
   "source": [
    "base_fn = \"/home/lmahler/data/scratch/fastsurfer_val/el4879_fastsurfer.nii\"\n",
    "obj = nib.load(base_fn)"
   ]
  },
  {
   "cell_type": "code",
   "execution_count": 3,
   "id": "f14e2ef5-5c66-4170-9d84-6998c3d2e1e5",
   "metadata": {},
   "outputs": [
    {
     "data": {
      "text/plain": [
       "array([   0,    2,    4,    5,    7,    8,   10,   11,   12,   13,   14,\n",
       "         15,   16,   17,   18,   24,   26,   28,   31,   41,   43,   44,\n",
       "         46,   47,   49,   50,   51,   52,   53,   54,   58,   60,   63,\n",
       "         77, 1002, 1003, 1005, 1006, 1007, 1008, 1009, 1010, 1011, 1012,\n",
       "       1013, 1014, 1015, 1016, 1017, 1018, 1019, 1020, 1021, 1022, 1023,\n",
       "       1024, 1025, 1026, 1027, 1028, 1029, 1030, 1031, 1034, 1035, 2002,\n",
       "       2003, 2005, 2006, 2007, 2008, 2009, 2010, 2011, 2012, 2013, 2014,\n",
       "       2015, 2016, 2017, 2018, 2019, 2020, 2021, 2022, 2023, 2024, 2025,\n",
       "       2026, 2027, 2028, 2029, 2030, 2031, 2034, 2035])"
      ]
     },
     "execution_count": 3,
     "metadata": {},
     "output_type": "execute_result"
    }
   ],
   "source": [
    "img = obj.get_fdata()\n",
    "np.unique(img.astype(int))"
   ]
  },
  {
   "cell_type": "code",
   "execution_count": 4,
   "id": "9b907217-6697-4fc2-a700-fca8bc46c869",
   "metadata": {},
   "outputs": [],
   "source": [
    "def aparaseg_to_aseg(img):\n",
    "    img[img >= 2000] = 42\n",
    "    img[img >= 1000] = 3\n",
    "    return img\n"
   ]
  },
  {
   "cell_type": "code",
   "execution_count": 5,
   "id": "a58df85b-db76-4bde-901f-d405d4bffab1",
   "metadata": {},
   "outputs": [
    {
     "data": {
      "text/plain": [
       "array([ 0.,  2.,  3.,  4.,  5.,  7.,  8., 10., 11., 12., 13., 14., 15.,\n",
       "       16., 17., 18., 24., 26., 28., 31., 41., 42., 43., 44., 46., 47.,\n",
       "       49., 50., 51., 52., 53., 54., 58., 60., 63., 77.])"
      ]
     },
     "execution_count": 5,
     "metadata": {},
     "output_type": "execute_result"
    }
   ],
   "source": [
    "new = aparaseg_to_aseg(img)\n",
    "np.unique(new)"
   ]
  },
  {
   "cell_type": "code",
   "execution_count": 6,
   "id": "4b80d138-57a1-49fd-91f9-9a4fb84b7ce1",
   "metadata": {},
   "outputs": [],
   "source": [
    "def aseg_to_fs_gmwm(img):\n",
    "    img = img.astype(int)\n",
    "    new = np.zeros(img.shape, dtype=int)\n",
    "    new = np.where(img==42, 42, new)\n",
    "    new = np.where(img==3, 3, new)\n",
    "    new = np.where(img==41, 41, new)\n",
    "    new = np.where(img==2, 2, new)\n",
    "    return new\n",
    "\n"
   ]
  },
  {
   "cell_type": "code",
   "execution_count": 7,
   "id": "bcf89398-58f8-4898-9fdc-8645820631d1",
   "metadata": {},
   "outputs": [
    {
     "data": {
      "text/plain": [
       "array([ 0,  2,  3, 41, 42])"
      ]
     },
     "execution_count": 7,
     "metadata": {},
     "output_type": "execute_result"
    }
   ],
   "source": [
    "new = aseg_to_fs_gmwm(new)\n",
    "np.unique(new)"
   ]
  },
  {
   "cell_type": "code",
   "execution_count": 8,
   "id": "d30e59e1-948c-4462-8a83-74b5c31d9a89",
   "metadata": {},
   "outputs": [],
   "source": [
    "test_obj = nib.load(\"/home/lmahler/data/scratch/fastsurfer_val/out/el4879_fastsurfer.nii\")"
   ]
  },
  {
   "cell_type": "code",
   "execution_count": 9,
   "id": "b8365ca0-4799-4e78-990c-ec81f11d681c",
   "metadata": {},
   "outputs": [
    {
     "data": {
      "text/plain": [
       "array([ 0.,  2., 41.])"
      ]
     },
     "execution_count": 9,
     "metadata": {},
     "output_type": "execute_result"
    }
   ],
   "source": [
    "test_img = test_obj.get_fdata()\n",
    "np.unique(test_img)"
   ]
  },
  {
   "cell_type": "code",
   "execution_count": 10,
   "id": "59789b18-f363-4ba4-87ba-c0eb13a840e5",
   "metadata": {},
   "outputs": [
    {
     "data": {
      "text/plain": [
       "dtype('int64')"
      ]
     },
     "execution_count": 10,
     "metadata": {},
     "output_type": "execute_result"
    }
   ],
   "source": [
    "test_img = test_img.astype(int)\n",
    "test_img.dtype"
   ]
  },
  {
   "cell_type": "code",
   "execution_count": 11,
   "id": "34ec3620-e97e-43cb-81b3-3b2f4b6c9ae0",
   "metadata": {},
   "outputs": [],
   "source": [
    "hdr = test_obj.header\n",
    "hdr.set_data_dtype(test_img.dtype)\n",
    "new_obj = nib.nifti1.Nifti1Image(test_img, affine=test_obj.affine, header=hdr)"
   ]
  },
  {
   "cell_type": "code",
   "execution_count": 12,
   "id": "0493b6f9-23db-4cf7-b266-df5f1684df51",
   "metadata": {},
   "outputs": [
    {
     "data": {
      "text/plain": [
       "array([ 0.,  2., 41.])"
      ]
     },
     "execution_count": 12,
     "metadata": {},
     "output_type": "execute_result"
    }
   ],
   "source": [
    "np.unique(new_obj.get_fdata())"
   ]
  },
  {
   "cell_type": "code",
   "execution_count": 13,
   "id": "e7f3cd8f-5461-4f69-9a51-9b034364dfee",
   "metadata": {},
   "outputs": [
    {
     "data": {
      "text/plain": [
       "dtype('int64')"
      ]
     },
     "execution_count": 13,
     "metadata": {},
     "output_type": "execute_result"
    }
   ],
   "source": [
    "test_img.dtype"
   ]
  },
  {
   "cell_type": "code",
   "execution_count": 14,
   "id": "f33c3017-f830-47e1-b3c9-820797869642",
   "metadata": {},
   "outputs": [
    {
     "data": {
      "text/plain": [
       "dtype('<i8')"
      ]
     },
     "execution_count": 14,
     "metadata": {},
     "output_type": "execute_result"
    }
   ],
   "source": [
    "new_obj.header.get_data_dtype()"
   ]
  },
  {
   "cell_type": "code",
   "execution_count": 15,
   "id": "5e723a5c-2d08-4f0f-a627-1207d3ae52af",
   "metadata": {},
   "outputs": [],
   "source": [
    "dat = new_obj.get_fdata()"
   ]
  },
  {
   "cell_type": "code",
   "execution_count": 16,
   "id": "56d8f72c-a57f-4b82-bbc3-a1f19213d468",
   "metadata": {},
   "outputs": [
    {
     "data": {
      "text/plain": [
       "dtype('float64')"
      ]
     },
     "execution_count": 16,
     "metadata": {},
     "output_type": "execute_result"
    }
   ],
   "source": [
    "dat.dtype"
   ]
  },
  {
   "cell_type": "code",
   "execution_count": 17,
   "id": "2ce3741a-ff05-4a15-9d11-f7b6fa259320",
   "metadata": {},
   "outputs": [
    {
     "data": {
      "text/plain": [
       "array([ 0.,  2., 41.])"
      ]
     },
     "execution_count": 17,
     "metadata": {},
     "output_type": "execute_result"
    }
   ],
   "source": [
    "np.unique(dat)"
   ]
  },
  {
   "cell_type": "code",
   "execution_count": 18,
   "id": "8b50feff-f817-4a57-afb7-9a95806de986",
   "metadata": {},
   "outputs": [],
   "source": [
    "nib.save(new_obj, \"/tmp/test.nii\")"
   ]
  },
  {
   "cell_type": "code",
   "execution_count": 19,
   "id": "c6207050-2d85-4e38-983f-252c8214c4c0",
   "metadata": {},
   "outputs": [],
   "source": [
    "load_test = nib.load(\"/tmp/test.nii\")"
   ]
  },
  {
   "cell_type": "code",
   "execution_count": 20,
   "id": "a0c63b7d-36b9-4ae8-a8fc-eaf20ebf34be",
   "metadata": {},
   "outputs": [],
   "source": [
    "load_dat = load_test.get_fdata()"
   ]
  },
  {
   "cell_type": "code",
   "execution_count": 21,
   "id": "f678420b-a905-4cd8-90c9-31eeec5b0504",
   "metadata": {},
   "outputs": [
    {
     "data": {
      "text/plain": [
       "dtype('float64')"
      ]
     },
     "execution_count": 21,
     "metadata": {},
     "output_type": "execute_result"
    }
   ],
   "source": [
    "load_dat.dtype"
   ]
  },
  {
   "cell_type": "code",
   "execution_count": 22,
   "id": "aa324c31-69f3-423e-9e46-279dc7fffab8",
   "metadata": {},
   "outputs": [
    {
     "data": {
      "text/plain": [
       "array([ 0.,  2., 41.])"
      ]
     },
     "execution_count": 22,
     "metadata": {},
     "output_type": "execute_result"
    }
   ],
   "source": [
    "np.unique(load_dat)"
   ]
  },
  {
   "cell_type": "code",
   "execution_count": 23,
   "id": "40e16a0c-7c66-422e-9f3b-73ca7b62a6a2",
   "metadata": {},
   "outputs": [],
   "source": [
    "comp = nib.load(\"/home/lmahler/data/GMWM_Segmentation9t/el4879/el4879_seg/el4879_seg.nii\")"
   ]
  },
  {
   "cell_type": "code",
   "execution_count": 24,
   "id": "372fa17f-cdfb-47b5-94c0-a18122a6e762",
   "metadata": {},
   "outputs": [],
   "source": [
    "res = resample_img(load_test, target_affine=comp.affine, target_shape=comp.shape, interpolation=\"nearest\")"
   ]
  },
  {
   "cell_type": "code",
   "execution_count": 25,
   "id": "0445ae07-f249-46f5-b6fb-9d1e43acf58b",
   "metadata": {},
   "outputs": [
    {
     "data": {
      "text/plain": [
       "array([ 0.,  2., 41.])"
      ]
     },
     "execution_count": 25,
     "metadata": {},
     "output_type": "execute_result"
    }
   ],
   "source": [
    "np.unique(res.get_fdata())"
   ]
  },
  {
   "cell_type": "code",
   "execution_count": 26,
   "id": "5f50407e-b5f5-4e4a-9e60-67e624b25aed",
   "metadata": {},
   "outputs": [],
   "source": [
    "import pandas as pd"
   ]
  },
  {
   "cell_type": "code",
   "execution_count": 27,
   "id": "f3fe0750-96b9-4ff1-b567-d7febd203f41",
   "metadata": {},
   "outputs": [],
   "source": [
    "df = pd.read_csv(\"/home/lmahler/code/mpi_val/results/fastsurfer_results.csv\")"
   ]
  },
  {
   "cell_type": "code",
   "execution_count": 28,
   "id": "633d2ca2-fb55-4a5f-93c9-164e55677510",
   "metadata": {},
   "outputs": [
    {
     "data": {
      "text/html": [
       "<div>\n",
       "<style scoped>\n",
       "    .dataframe tbody tr th:only-of-type {\n",
       "        vertical-align: middle;\n",
       "    }\n",
       "\n",
       "    .dataframe tbody tr th {\n",
       "        vertical-align: top;\n",
       "    }\n",
       "\n",
       "    .dataframe thead th {\n",
       "        text-align: right;\n",
       "    }\n",
       "</style>\n",
       "<table border=\"1\" class=\"dataframe\">\n",
       "  <thead>\n",
       "    <tr style=\"text-align: right;\">\n",
       "      <th></th>\n",
       "      <th>Unnamed: 0</th>\n",
       "      <th>Name</th>\n",
       "      <th>Dice</th>\n",
       "      <th>AverageSurfaceDistance</th>\n",
       "      <th>Hausdorff</th>\n",
       "    </tr>\n",
       "  </thead>\n",
       "  <tbody>\n",
       "    <tr>\n",
       "      <th>0</th>\n",
       "      <td>0</td>\n",
       "      <td>210525</td>\n",
       "      <td>0.178056</td>\n",
       "      <td>[(34.58133500193655, 4.121080584285436), (31.5...</td>\n",
       "      <td>[98.812954616285, 95.38343671728336]</td>\n",
       "    </tr>\n",
       "    <tr>\n",
       "      <th>1</th>\n",
       "      <td>1</td>\n",
       "      <td>l4879</td>\n",
       "      <td>0.149874</td>\n",
       "      <td>[(28.356675697398444, 9.45788156762123), (24.1...</td>\n",
       "      <td>[77.20751258783046, 73.79024325749306]</td>\n",
       "    </tr>\n",
       "    <tr>\n",
       "      <th>2</th>\n",
       "      <td>2</td>\n",
       "      <td>l7349</td>\n",
       "      <td>0.218953</td>\n",
       "      <td>[(35.098543594323154, 3.997058368851568), (32....</td>\n",
       "      <td>[96.82974749528164, 96.13012014972206]</td>\n",
       "    </tr>\n",
       "    <tr>\n",
       "      <th>3</th>\n",
       "      <td>3</td>\n",
       "      <td>fb9364</td>\n",
       "      <td>0.248825</td>\n",
       "      <td>[(27.12997857961704, 1.6521785988714803), (25....</td>\n",
       "      <td>[86.4060183089118, 86.95976080923866]</td>\n",
       "    </tr>\n",
       "    <tr>\n",
       "      <th>4</th>\n",
       "      <td>4</td>\n",
       "      <td>fb9455</td>\n",
       "      <td>0.113524</td>\n",
       "      <td>[(26.15624982769581, 6.7939638633955495), (24....</td>\n",
       "      <td>[84.09518416651456, 80.51086883148137]</td>\n",
       "    </tr>\n",
       "    <tr>\n",
       "      <th>5</th>\n",
       "      <td>5</td>\n",
       "      <td>jb1922</td>\n",
       "      <td>0.178845</td>\n",
       "      <td>[(14.344039881631957, 3.6536612826712234), (18...</td>\n",
       "      <td>[40.07492981902776, 58.89821729050889]</td>\n",
       "    </tr>\n",
       "    <tr>\n",
       "      <th>6</th>\n",
       "      <td>6</td>\n",
       "      <td>me0801</td>\n",
       "      <td>0.263014</td>\n",
       "      <td>[(26.708711881169595, 1.553720116189858), (24....</td>\n",
       "      <td>[85.0, 84.65222974027323]</td>\n",
       "    </tr>\n",
       "    <tr>\n",
       "      <th>7</th>\n",
       "      <td>7</td>\n",
       "      <td>me1102</td>\n",
       "      <td>0.176611</td>\n",
       "      <td>[(33.30060406654836, 5.73763383868492), (29.33...</td>\n",
       "      <td>[81.36952746575342, 77.17512552629896]</td>\n",
       "    </tr>\n",
       "    <tr>\n",
       "      <th>8</th>\n",
       "      <td>8</td>\n",
       "      <td>vk1506</td>\n",
       "      <td>0.089678</td>\n",
       "      <td>[(61.59717550333535, 17.527537664007298), (57....</td>\n",
       "      <td>[126.68859459319927, 120.47406359876801]</td>\n",
       "    </tr>\n",
       "    <tr>\n",
       "      <th>9</th>\n",
       "      <td>9</td>\n",
       "      <td>vk3464</td>\n",
       "      <td>0.226255</td>\n",
       "      <td>[(23.540393376110917, 2.742309898027691), (19....</td>\n",
       "      <td>[76.90253571892151, 73.00684899377592]</td>\n",
       "    </tr>\n",
       "  </tbody>\n",
       "</table>\n",
       "</div>"
      ],
      "text/plain": [
       "   Unnamed: 0    Name      Dice  \\\n",
       "0           0  210525  0.178056   \n",
       "1           1   l4879  0.149874   \n",
       "2           2   l7349  0.218953   \n",
       "3           3  fb9364  0.248825   \n",
       "4           4  fb9455  0.113524   \n",
       "5           5  jb1922  0.178845   \n",
       "6           6  me0801  0.263014   \n",
       "7           7  me1102  0.176611   \n",
       "8           8  vk1506  0.089678   \n",
       "9           9  vk3464  0.226255   \n",
       "\n",
       "                              AverageSurfaceDistance  \\\n",
       "0  [(34.58133500193655, 4.121080584285436), (31.5...   \n",
       "1  [(28.356675697398444, 9.45788156762123), (24.1...   \n",
       "2  [(35.098543594323154, 3.997058368851568), (32....   \n",
       "3  [(27.12997857961704, 1.6521785988714803), (25....   \n",
       "4  [(26.15624982769581, 6.7939638633955495), (24....   \n",
       "5  [(14.344039881631957, 3.6536612826712234), (18...   \n",
       "6  [(26.708711881169595, 1.553720116189858), (24....   \n",
       "7  [(33.30060406654836, 5.73763383868492), (29.33...   \n",
       "8  [(61.59717550333535, 17.527537664007298), (57....   \n",
       "9  [(23.540393376110917, 2.742309898027691), (19....   \n",
       "\n",
       "                                  Hausdorff  \n",
       "0      [98.812954616285, 95.38343671728336]  \n",
       "1    [77.20751258783046, 73.79024325749306]  \n",
       "2    [96.82974749528164, 96.13012014972206]  \n",
       "3     [86.4060183089118, 86.95976080923866]  \n",
       "4    [84.09518416651456, 80.51086883148137]  \n",
       "5    [40.07492981902776, 58.89821729050889]  \n",
       "6                 [85.0, 84.65222974027323]  \n",
       "7    [81.36952746575342, 77.17512552629896]  \n",
       "8  [126.68859459319927, 120.47406359876801]  \n",
       "9    [76.90253571892151, 73.00684899377592]  "
      ]
     },
     "execution_count": 28,
     "metadata": {},
     "output_type": "execute_result"
    }
   ],
   "source": [
    "df"
   ]
  },
  {
   "cell_type": "code",
   "execution_count": null,
   "id": "75e9699c-b6b7-4c24-b954-abd4bed3fd46",
   "metadata": {},
   "outputs": [],
   "source": []
  }
 ],
 "metadata": {
  "kernelspec": {
   "display_name": "Python 3 (ipykernel)",
   "language": "python",
   "name": "python3"
  },
  "language_info": {
   "codemirror_mode": {
    "name": "ipython",
    "version": 3
   },
   "file_extension": ".py",
   "mimetype": "text/x-python",
   "name": "python",
   "nbconvert_exporter": "python",
   "pygments_lexer": "ipython3",
   "version": "3.8.10"
  }
 },
 "nbformat": 4,
 "nbformat_minor": 5
}
