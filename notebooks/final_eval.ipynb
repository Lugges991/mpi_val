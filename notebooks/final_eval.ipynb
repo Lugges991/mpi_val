{
 "cells": [
  {
   "cell_type": "markdown",
   "id": "74e439cc-b8af-4a40-ab58-1dc3184f6a9f",
   "metadata": {},
   "source": [
    "# Results of evalutation\n",
    "\n",
    "evaluated tools:\n",
    "- FastSurfer\n",
    "- SynthSeg:\n",
    "    - normal\n",
    "    - robust\n",
    "    - fast"
   ]
  },
  {
   "cell_type": "code",
   "execution_count": 22,
   "id": "203dfc6b-8a53-4af4-8aab-209f126da5c2",
   "metadata": {},
   "outputs": [],
   "source": [
    "import pandas as pd\n",
    "import numpy as np\n",
    "import matplotlib.pyplot as plt"
   ]
  },
  {
   "cell_type": "code",
   "execution_count": 27,
   "id": "80598703-b505-4f0c-b472-e18fbe2b1a7e",
   "metadata": {},
   "outputs": [],
   "source": [
    "freesurfer_df = pd.read_csv(\"../results/freesurfer_results.csv\")\n",
    "fastsurfer_df = pd.read_csv(\"../results/fastsurfer_results.csv\")\n",
    "ss_df = pd.read_csv(\"../results/synthseg_ss_results.csv\")\n",
    "rob_df = pd.read_csv(\"../results/synthseg_rob_results.csv\")\n",
    "fast_df = pd.read_csv(\"../results/synthseg_fast_results.csv\")"
   ]
  },
  {
   "cell_type": "markdown",
   "id": "8a3de019-cc97-48f3-a916-0a57e470b63c",
   "metadata": {},
   "source": [
    "Tissue classes:\n",
    "\n",
    "\n",
    "2:  Left White Matter\n",
    "\n",
    "3:  Left Gray Matter\n",
    "\n",
    "41: Right White Matter\n",
    "\n",
    "42: Right Gray Matter\n",
    "\n",
    "\n",
    "In array order:\n",
    "[left white matter, left gray matter, right white matter, right gray matter]"
   ]
  },
  {
   "cell_type": "code",
   "execution_count": 28,
   "id": "a1a9e4dc-55a7-4828-b047-963abc61b256",
   "metadata": {},
   "outputs": [
    {
     "data": {
      "text/html": [
       "<div>\n",
       "<style scoped>\n",
       "    .dataframe tbody tr th:only-of-type {\n",
       "        vertical-align: middle;\n",
       "    }\n",
       "\n",
       "    .dataframe tbody tr th {\n",
       "        vertical-align: top;\n",
       "    }\n",
       "\n",
       "    .dataframe thead th {\n",
       "        text-align: right;\n",
       "    }\n",
       "</style>\n",
       "<table border=\"1\" class=\"dataframe\">\n",
       "  <thead>\n",
       "    <tr style=\"text-align: right;\">\n",
       "      <th></th>\n",
       "      <th>Name</th>\n",
       "      <th>Dice</th>\n",
       "      <th>AverageSurfaceDistance</th>\n",
       "      <th>Hausdorff</th>\n",
       "    </tr>\n",
       "  </thead>\n",
       "  <tbody>\n",
       "    <tr>\n",
       "      <th>0</th>\n",
       "      <td>210525</td>\n",
       "      <td>0.913872</td>\n",
       "      <td>[(0.5877035420615638, 1.1402246996147152), (0....</td>\n",
       "      <td>[6.48074069840786, 2.23606797749979, 6.7082039...</td>\n",
       "    </tr>\n",
       "    <tr>\n",
       "      <th>1</th>\n",
       "      <td>l4879</td>\n",
       "      <td>0.922491</td>\n",
       "      <td>[(0.6347683396455093, 1.2354566478891469), (0....</td>\n",
       "      <td>[8.0, 2.0, 7.0, 2.0]</td>\n",
       "    </tr>\n",
       "    <tr>\n",
       "      <th>2</th>\n",
       "      <td>l7349</td>\n",
       "      <td>0.915411</td>\n",
       "      <td>[(0.6365112811836702, 1.1768981523539406), (0....</td>\n",
       "      <td>[7.0, 2.0, 7.0710678118654755, 2.0]</td>\n",
       "    </tr>\n",
       "    <tr>\n",
       "      <th>3</th>\n",
       "      <td>fb9364</td>\n",
       "      <td>0.905508</td>\n",
       "      <td>[(0.4780304149098425, 1.0008202182868897), (0....</td>\n",
       "      <td>[6.0, 2.449489742783178, 5.385164807134504, 3.0]</td>\n",
       "    </tr>\n",
       "    <tr>\n",
       "      <th>4</th>\n",
       "      <td>fb9455</td>\n",
       "      <td>0.913120</td>\n",
       "      <td>[(0.5643623369428963, 0.9468893189676084), (0....</td>\n",
       "      <td>[5.385164807134504, 2.23606797749979, 5.196152...</td>\n",
       "    </tr>\n",
       "    <tr>\n",
       "      <th>5</th>\n",
       "      <td>jb1922</td>\n",
       "      <td>0.913149</td>\n",
       "      <td>[(0.5782481772003217, 1.0238965467621537), (0....</td>\n",
       "      <td>[5.744562646538029, 2.23606797749979, 5.656854...</td>\n",
       "    </tr>\n",
       "    <tr>\n",
       "      <th>6</th>\n",
       "      <td>me0801</td>\n",
       "      <td>0.900070</td>\n",
       "      <td>[(0.5316185889706211, 0.9798079227378876), (0....</td>\n",
       "      <td>[5.385164807134504, 2.23606797749979, 5.099019...</td>\n",
       "    </tr>\n",
       "    <tr>\n",
       "      <th>7</th>\n",
       "      <td>me1102</td>\n",
       "      <td>0.896892</td>\n",
       "      <td>[(0.5817322855176088, 1.1015077198189542), (0....</td>\n",
       "      <td>[7.0, 2.23606797749979, 7.0, 2.23606797749979]</td>\n",
       "    </tr>\n",
       "    <tr>\n",
       "      <th>8</th>\n",
       "      <td>vk1506</td>\n",
       "      <td>0.915544</td>\n",
       "      <td>[(0.5079247051065016, 0.991700513839508), (0.7...</td>\n",
       "      <td>[6.082762530298219, 2.449489742783178, 4.89897...</td>\n",
       "    </tr>\n",
       "    <tr>\n",
       "      <th>9</th>\n",
       "      <td>vk3464</td>\n",
       "      <td>0.915120</td>\n",
       "      <td>[(0.5121052002098614, 0.9746607024978791), (0....</td>\n",
       "      <td>[5.0990195135927845, 2.23606797749979, 5.09901...</td>\n",
       "    </tr>\n",
       "  </tbody>\n",
       "</table>\n",
       "</div>"
      ],
      "text/plain": [
       "     Name      Dice                             AverageSurfaceDistance  \\\n",
       "0  210525  0.913872  [(0.5877035420615638, 1.1402246996147152), (0....   \n",
       "1   l4879  0.922491  [(0.6347683396455093, 1.2354566478891469), (0....   \n",
       "2   l7349  0.915411  [(0.6365112811836702, 1.1768981523539406), (0....   \n",
       "3  fb9364  0.905508  [(0.4780304149098425, 1.0008202182868897), (0....   \n",
       "4  fb9455  0.913120  [(0.5643623369428963, 0.9468893189676084), (0....   \n",
       "5  jb1922  0.913149  [(0.5782481772003217, 1.0238965467621537), (0....   \n",
       "6  me0801  0.900070  [(0.5316185889706211, 0.9798079227378876), (0....   \n",
       "7  me1102  0.896892  [(0.5817322855176088, 1.1015077198189542), (0....   \n",
       "8  vk1506  0.915544  [(0.5079247051065016, 0.991700513839508), (0.7...   \n",
       "9  vk3464  0.915120  [(0.5121052002098614, 0.9746607024978791), (0....   \n",
       "\n",
       "                                           Hausdorff  \n",
       "0  [6.48074069840786, 2.23606797749979, 6.7082039...  \n",
       "1                               [8.0, 2.0, 7.0, 2.0]  \n",
       "2                [7.0, 2.0, 7.0710678118654755, 2.0]  \n",
       "3   [6.0, 2.449489742783178, 5.385164807134504, 3.0]  \n",
       "4  [5.385164807134504, 2.23606797749979, 5.196152...  \n",
       "5  [5.744562646538029, 2.23606797749979, 5.656854...  \n",
       "6  [5.385164807134504, 2.23606797749979, 5.099019...  \n",
       "7     [7.0, 2.23606797749979, 7.0, 2.23606797749979]  \n",
       "8  [6.082762530298219, 2.449489742783178, 4.89897...  \n",
       "9  [5.0990195135927845, 2.23606797749979, 5.09901...  "
      ]
     },
     "execution_count": 28,
     "metadata": {},
     "output_type": "execute_result"
    }
   ],
   "source": [
    "ss_df"
   ]
  },
  {
   "cell_type": "code",
   "execution_count": 11,
   "id": "a1c6a48c-99ee-4b05-a013-24c4829566c1",
   "metadata": {},
   "outputs": [],
   "source": [
    "fastsurfer_dice_mean = fastsurfer_df.Dice.values.mean()\n",
    "ss_dice_mean = ss_df.Dice.values.mean()\n",
    "rob_dice_mean = rob_df.Dice.values.mean()\n",
    "fast_dice_mean = fast_df.Dice.values.mean()"
   ]
  },
  {
   "cell_type": "code",
   "execution_count": 18,
   "id": "3f88e34f-0291-4166-b05d-b169bc9e0b49",
   "metadata": {},
   "outputs": [
    {
     "name": "stdout",
     "output_type": "stream",
     "text": [
      "Fastsurfer dice mean: 0.5676551021601006\n",
      "Synthseg dice mean: 0.91111780286237\n",
      "Synthseg robust dice mean: 0.9054463126791827\n",
      "Synthseg fast dice mean:0.907379762183148\n"
     ]
    }
   ],
   "source": [
    "print(f\"Fastsurfer dice mean: {fastsurfer_dice_mean}\\nSynthseg dice mean: {ss_dice_mean}\\nSynthseg robust dice mean: {rob_dice_mean}\\nSynthseg fast dice mean:{fast_dice_mean}\")"
   ]
  },
  {
   "cell_type": "code",
   "execution_count": 20,
   "id": "2d223474-4ddf-44a7-afa5-c4c5c43636ef",
   "metadata": {},
   "outputs": [
    {
     "data": {
      "text/plain": [
       "'[17.029386365926403, 15.905973720586866, 21.354156504062622, 21.79449471770337]'"
      ]
     },
     "execution_count": 20,
     "metadata": {},
     "output_type": "execute_result"
    }
   ],
   "source": [
    "fastsurfer_df.Hausdorff[0]"
   ]
  },
  {
   "cell_type": "code",
   "execution_count": 47,
   "id": "566e6690-f82d-468a-8b91-29269e199da5",
   "metadata": {},
   "outputs": [
    {
     "data": {
      "image/png": "[encoded data removed]",
      "text/plain": [
       "<Figure size 576x1008 with 1 Axes>"
      ]
     },
     "metadata": {},
     "output_type": "display_data"
    }
   ],
   "source": [
    "boxes = [freesurfer_df.Dice.values, fastsurfer_df.Dice.values, ss_df.Dice.values, rob_df.Dice.values, fast_df.Dice.values]\n",
    "xs = list(range(6))\n",
    "plt.style.use(\"ggplot\")\n",
    "plt.figure(figsize=(8,14))\n",
    "plt.boxplot(boxes)\n",
    "plt.xticks(ticks=xs, labels=[\"\", \"FreeSurfer\", \"FastSurfer\", \"SynthSeg\", \"SynthSeg Robust\", \"SynthSeg Fast\"], rotation=\"vertical\")\n",
    "plt.ylabel(\"Dice Score Across Classes\")\n",
    "plt.savefig(\"./boxplot_dice.png\")\n",
    "plt.show()\n"
   ]
  },
  {
   "cell_type": "code",
   "execution_count": 51,
   "id": "eb2baff3-394e-4586-9354-9cd0159e3f34",
   "metadata": {},
   "outputs": [
    {
     "data": {
      "text/plain": [
       "0.9726590758612765"
      ]
     },
     "execution_count": 51,
     "metadata": {},
     "output_type": "execute_result"
    }
   ],
   "source": [
    "freesurfer_df.Dice.values.mean()"
   ]
  },
  {
   "cell_type": "code",
   "execution_count": null,
   "id": "1158b95b-b6da-41ee-8436-a17cfc2effbf",
   "metadata": {},
   "outputs": [],
   "source": []
  },
  {
   "cell_type": "code",
   "execution_count": 55,
   "id": "81a42299-3e35-4638-9a3f-a6325ecdf957",
   "metadata": {},
   "outputs": [],
   "source": [
    "def create_df_with_all_values(df):\n",
    "    names, dice, asd_lwm, asd_lgm, asd_rwm, asd_rgm, hd_lwm, hd_lgm, hd_rwm, hd_rgm = [], [], [], [], [], [], [], [], [], []\n",
    "    for i, r in df.iterrows():\n",
    "        names.append(r.Name)\n",
    "    res_dic = {\"Name\": names}\n",
    "    return names"
   ]
  },
  {
   "cell_type": "code",
   "execution_count": null,
   "id": "71bce1c0-87f2-4b06-b522-0bde51cdece6",
   "metadata": {},
   "outputs": [],
   "source": []
  },
  {
   "cell_type": "code",
   "execution_count": null,
   "id": "2f222c30-e22b-4282-ae50-cb71b3cf2953",
   "metadata": {},
   "outputs": [],
   "source": []
  },
  {
   "cell_type": "code",
   "execution_count": null,
   "id": "d32315de-315d-40d5-8f88-635500d6d71c",
   "metadata": {},
   "outputs": [],
   "source": []
  }
 ],
 "metadata": {
  "kernelspec": {
   "display_name": "Python 3 (ipykernel)",
   "language": "python",
   "name": "python3"
  },
  "language_info": {
   "codemirror_mode": {
    "name": "ipython",
    "version": 3
   },
   "file_extension": ".py",
   "mimetype": "text/x-python",
   "name": "python",
   "nbconvert_exporter": "python",
   "pygments_lexer": "ipython3",
   "version": "3.8.10"
  }
 },
 "nbformat": 4,
 "nbformat_minor": 5
}
